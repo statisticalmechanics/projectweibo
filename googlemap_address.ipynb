{
 "cells": [
  {
   "cell_type": "markdown",
   "metadata": {},
   "source": [
    "### given a list of address \"location_dict\", scrape longitude and latitude from goolge map, save to lat_list and lng_list; careful for connection limit"
   ]
  },
  {
   "cell_type": "code",
   "execution_count": null,
   "metadata": {},
   "outputs": [],
   "source": [
    "import requests\n",
    "import json  \n",
    "\n",
    "def GetGeo(address):\n",
    "    addressUrl = \"http://maps.googleapis.com/maps/api/geocode/json?address=\" + address  \n",
    "    response = requests.get(addressUrl)\n",
    "    resp_json_payload = response.json()    \n",
    "    geo = resp_json_payload['results'][0]['geometry']['location']\n",
    "    lat = geo['lat']\n",
    "    lng = geo['lng']\n",
    "    return lat, lng"
   ]
  },
  {
   "cell_type": "code",
   "execution_count": null,
   "metadata": {},
   "outputs": [],
   "source": [
    "from time import sleep\n",
    "\n",
    "lat_list = []\n",
    "lng_list = []\n",
    "\n",
    "dt = 100\n",
    "\n",
    "for inx, loc in enumerate(location_dict):    \n",
    "    if loc == '其他':\n",
    "        lat = 0.0\n",
    "        lng = 0.0\n",
    "    else:\n",
    "        lat = None\n",
    "        while lat is None:\n",
    "            try:\n",
    "                lat, lng = GetGeo(loc)\n",
    "                sleep(1)\n",
    "            except:\n",
    "                pass\n",
    "    lat_list.append(lat)\n",
    "    lng_list.append(lng)\n",
    "        \n",
    "    if inx % 10 == 0:\n",
    "        print(inx, lat, lng)\n",
    "    if inx % 100 == 0:\n",
    "        print(\"wait \", dt, \"s ...\")\n",
    "        sleep(dt)\n"
   ]
  }
 ],
 "metadata": {
  "kernelspec": {
   "display_name": "Python 3",
   "language": "python",
   "name": "python3"
  },
  "language_info": {
   "codemirror_mode": {
    "name": "ipython",
    "version": 3
   },
   "file_extension": ".py",
   "mimetype": "text/x-python",
   "name": "python",
   "nbconvert_exporter": "python",
   "pygments_lexer": "ipython3",
   "version": "3.6.4"
  }
 },
 "nbformat": 4,
 "nbformat_minor": 2
}
