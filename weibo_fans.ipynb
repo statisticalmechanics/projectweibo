{
 "cells": [
  {
   "cell_type": "markdown",
   "metadata": {},
   "source": [
    "## Get users id of 5000 fans for a given hub user_id"
   ]
  },
  {
   "cell_type": "code",
   "execution_count": 1,
   "metadata": {},
   "outputs": [],
   "source": [
    "import re\n",
    "import requests\n",
    "import numpy as np\n",
    "\n",
    "cookie = {\"Cookie\": \"personal account key\"}\n",
    "\n",
    "def get_fans(user_id, pagerange):\n",
    "    \n",
    "    fans_list = []\n",
    "\n",
    "    for page in range(0, pagerange+1):\n",
    "        url = \"https://m.weibo.cn/api/container/getIndex?containerid=231051_-_fans_-_%d&type=all&since_id=%d\" % (\n",
    "                user_id, page)\n",
    "        html = requests.get(url, cookies=cookie).content\n",
    "        html_decode = html.decode('utf-8')\n",
    "        pattern = \"uid=(\\d+)\"\n",
    "        guid = re.findall(pattern, html_decode)\n",
    "        fans_list = fans_list + list(set(guid))\n",
    "        if page % 10 == 0: \n",
    "            print('page', page)\n",
    "    \n",
    "    fans_list = list(set(fans_list))\n",
    "    \n",
    "    print('number of fans: ', len(fans_list), 'of user: ', user_id)\n",
    "    \n",
    "    np.savetxt('./fans/%d_fans.txt' % user_id, fans_list, fmt='%s')    "
   ]
  },
  {
   "cell_type": "markdown",
   "metadata": {},
   "source": [
    "sample hub users\n",
    "6288254740 # 美食作家\n",
    "3261134763 # 刘亦飞\n",
    "2558582594 # 万精油微博\n",
    "2199733231 # 陈怡然\n",
    "5866810652 # 吴恩达\n",
    "1223975960 # 数学与艺术MaA"
   ]
  },
  {
   "cell_type": "code",
   "execution_count": 3,
   "metadata": {},
   "outputs": [
    {
     "name": "stdout",
     "output_type": "stream",
     "text": [
      "page 0\n",
      "page 10\n",
      "page 20\n",
      "page 30\n",
      "page 40\n",
      "page 50\n",
      "page 60\n",
      "page 70\n",
      "page 80\n",
      "page 90\n",
      "page 100\n",
      "page 110\n",
      "page 120\n",
      "page 130\n",
      "page 140\n",
      "page 150\n",
      "page 160\n",
      "page 170\n",
      "page 180\n",
      "page 190\n",
      "page 200\n",
      "page 210\n",
      "page 220\n",
      "page 230\n",
      "page 240\n",
      "page 250\n",
      "number of fans:  4910 of user:  1223975960\n"
     ]
    }
   ],
   "source": [
    "user_id = 1223975960\n",
    "get_fans(user_id, 250)"
   ]
  },
  {
   "cell_type": "code",
   "execution_count": 4,
   "metadata": {},
   "outputs": [
    {
     "name": "stdout",
     "output_type": "stream",
     "text": [
      "19705\n",
      "19348\n"
     ]
    }
   ],
   "source": [
    "user_list_1 = np.loadtxt('./fans/6288254740_fans.txt', dtype='int64')\n",
    "user_list_2 = np.loadtxt('./fans/3261134763_fans.txt', dtype='int64')\n",
    "user_list_3 = np.loadtxt('./fans/2558582594_fans.txt', dtype='int64')\n",
    "user_list_4 = np.loadtxt('./fans/2199733231_fans.txt', dtype='int64')\n",
    "user_list_5 = np.loadtxt('./fans/5866810652_fans.txt', dtype='int64')\n",
    "user_list_6 = np.loadtxt('./fans/1223975960_fans.txt', dtype='int64')\n",
    "\n",
    "#user_list = np.concatenate((user_list_1, user_list_2))\n",
    "user_list = np.concatenate((user_list_3, user_list_4, user_list_5, user_list_6))\n",
    "\n",
    "print(len(user_list))\n",
    "\n",
    "user_list = list(set(user_list))\n",
    "\n",
    "print(len(user_list))\n",
    "\n",
    "np.savetxt('user_id_list.txt', user_list, fmt='%d')"
   ]
  },
  {
   "cell_type": "code",
   "execution_count": 5,
   "metadata": {},
   "outputs": [],
   "source": [
    "n_users = len(user_list)\n",
    "batch_size = 50\n",
    "n_batches = n_users // batch_size\n",
    "\n",
    "for i in range(n_batches):\n",
    "    batch_list = user_list[i*batch_size:(i+1)*batch_size]\n",
    "    np.savetxt('./users/user_id_list_%d.txt' % i, batch_list, fmt='%d')\n",
    "    "
   ]
  },
  {
   "cell_type": "code",
   "execution_count": null,
   "metadata": {},
   "outputs": [],
   "source": []
  }
 ],
 "metadata": {
  "kernelspec": {
   "display_name": "Python 3",
   "language": "python",
   "name": "python3"
  },
  "language_info": {
   "codemirror_mode": {
    "name": "ipython",
    "version": 3
   },
   "file_extension": ".py",
   "mimetype": "text/x-python",
   "name": "python",
   "nbconvert_exporter": "python",
   "pygments_lexer": "ipython3",
   "version": "3.6.4"
  }
 },
 "nbformat": 4,
 "nbformat_minor": 2
}
